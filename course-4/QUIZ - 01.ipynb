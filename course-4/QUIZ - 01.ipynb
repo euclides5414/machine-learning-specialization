{
 "cells": [
  {
   "cell_type": "code",
   "execution_count": 6,
   "metadata": {
    "collapsed": false
   },
   "outputs": [
    {
     "name": "stdout",
     "output_type": "stream",
     "text": [
      "3.606 3.606\n",
      "0.565 0.565\n"
     ]
    }
   ],
   "source": [
    "import numpy as np\n",
    "from scipy.spatial.distance import euclidean, cosine\n",
    "\n",
    "def mcosine(v1, v2):\n",
    "    norm = np.sqrt(v1.dot(v1))*np.sqrt(v2.dot(v2))\n",
    "    return 1 - (v1.dot(v2)/(norm))\n",
    "\n",
    "s1 = \"The quick brown fox jumps over the lazy dog\".lower()\n",
    "s2 = \"A quick brown dog outpaces a quick fox\".lower()\n",
    "\n",
    "w1, w2 = s1.split(), s2.split()\n",
    "d, d1, d2 = {}, {}, {}\n",
    "for w in w1:\n",
    "    d[w] = d.get(w, 0) + 1\n",
    "    d1[w] = d1.get(w, 0) + 1\n",
    "for w in w2:\n",
    "    d[w] = d.get(w, 0) + 1\n",
    "    d2[w] = d2.get(w, 0) + 1\n",
    "\n",
    "ds = 0\n",
    "v1, v2 = np.zeros(len(d)), np.zeros(len(d))\n",
    "for i, w in enumerate(d.keys()):\n",
    "    ds += ((d1.get(w, 0) - d2.get(w, 0))**2)\n",
    "    v1[i] = d1.get(w, 0)\n",
    "    v2[i] = d2.get(w, 0)\n",
    "\n",
    "    \n",
    "\n",
    "print(round(euclidean(v1, v2), 3), round(np.sqrt(ds), 3))\n",
    "print(round(cosine(v1, v2), 3), round(mcosine(v1, v2), 3))"
   ]
  }
 ],
 "metadata": {
  "kernelspec": {
   "display_name": "Python 3",
   "language": "python",
   "name": "python3"
  },
  "language_info": {
   "codemirror_mode": {
    "name": "ipython",
    "version": 3
   },
   "file_extension": ".py",
   "mimetype": "text/x-python",
   "name": "python",
   "nbconvert_exporter": "python",
   "pygments_lexer": "ipython3",
   "version": "3.5.1"
  }
 },
 "nbformat": 4,
 "nbformat_minor": 0
}
